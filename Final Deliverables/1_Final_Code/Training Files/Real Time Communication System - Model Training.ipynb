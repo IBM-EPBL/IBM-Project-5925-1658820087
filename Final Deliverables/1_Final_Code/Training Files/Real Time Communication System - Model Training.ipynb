{
 "cells": [
  {
   "cell_type": "markdown",
   "id": "659ba033",
   "metadata": {},
   "source": [
    "# Image Preprocessing"
   ]
  },
  {
   "cell_type": "code",
   "execution_count": 1,
   "id": "233c0ffc",
   "metadata": {},
   "outputs": [
    {
     "name": "stderr",
     "output_type": "stream",
     "text": [
      "C:\\Users\\Lenovo\\anaconda3\\lib\\site-packages\\scipy\\__init__.py:146: UserWarning: A NumPy version >=1.16.5 and <1.23.0 is required for this version of SciPy (detected version 1.23.4\n",
      "  warnings.warn(f\"A NumPy version >={np_minversion} and <{np_maxversion}\"\n"
     ]
    }
   ],
   "source": [
    "# Importing Libraries\n",
    "\n",
    "from tensorflow.keras.preprocessing.image import ImageDataGenerator"
   ]
  },
  {
   "cell_type": "code",
   "execution_count": 2,
   "id": "9025b545",
   "metadata": {},
   "outputs": [],
   "source": [
    "# Image Augmentation\n",
    "\n",
    "train_datagen = ImageDataGenerator(rescale = 1./255, shear_range = 0.2, zoom_range = 0.2, horizontal_flip = True)\n",
    "test_datagen = ImageDataGenerator(rescale = 1./255)"
   ]
  },
  {
   "cell_type": "code",
   "execution_count": 3,
   "id": "0c862f6f",
   "metadata": {},
   "outputs": [
    {
     "name": "stdout",
     "output_type": "stream",
     "text": [
      "Found 15750 images belonging to 9 classes.\n",
      "Found 15750 images belonging to 9 classes.\n"
     ]
    }
   ],
   "source": [
    "# Loading train and test set\n",
    "\n",
    "X_train = train_datagen.flow_from_directory(r\"D:\\Real-time Communication System for specially abled\\Dataset\\training_set\", target_size = (64, 64), batch_size = 32, class_mode = 'categorical')\n",
    "X_test = test_datagen.flow_from_directory(r\"D:\\Real-time Communication System for specially abled\\Dataset\\training_set\", target_size = (64, 64), batch_size = 32, class_mode = 'categorical')"
   ]
  },
  {
   "cell_type": "code",
   "execution_count": 4,
   "id": "8f9a8b85",
   "metadata": {},
   "outputs": [
    {
     "data": {
      "text/plain": [
       "{'A': 0, 'B': 1, 'C': 2, 'D': 3, 'E': 4, 'F': 5, 'G': 6, 'H': 7, 'I': 8}"
      ]
     },
     "execution_count": 4,
     "metadata": {},
     "output_type": "execute_result"
    }
   ],
   "source": [
    "# checking indices\n",
    "\n",
    "X_train.class_indices"
   ]
  },
  {
   "cell_type": "markdown",
   "id": "46015d36",
   "metadata": {},
   "source": [
    "# Model Building"
   ]
  },
  {
   "cell_type": "code",
   "execution_count": 5,
   "id": "34553f83",
   "metadata": {},
   "outputs": [],
   "source": [
    "# Importing Libraries\n",
    "\n",
    "from tensorflow.keras.models import Sequential\n",
    "from tensorflow.keras.layers import Dense\n",
    "from tensorflow.keras.layers import Convolution2D, MaxPooling2D, Flatten"
   ]
  },
  {
   "cell_type": "code",
   "execution_count": 6,
   "id": "f4a960e0",
   "metadata": {},
   "outputs": [],
   "source": [
    "# Initializing the Model\n",
    "\n",
    "model = Sequential()"
   ]
  },
  {
   "cell_type": "code",
   "execution_count": 7,
   "id": "91767533",
   "metadata": {},
   "outputs": [],
   "source": [
    "# Adding Convolution Layer\n",
    "\n",
    "model.add(Convolution2D((32), (3,3), input_shape = (64, 64, 3), activation = 'relu'))"
   ]
  },
  {
   "cell_type": "code",
   "execution_count": 8,
   "id": "757d4e83",
   "metadata": {},
   "outputs": [],
   "source": [
    "# Adding Pooling Layer\n",
    "\n",
    "model.add(MaxPooling2D(pool_size = (2, 2)))"
   ]
  },
  {
   "cell_type": "code",
   "execution_count": 9,
   "id": "f6fafd32",
   "metadata": {},
   "outputs": [],
   "source": [
    "# Adding Flatten Layer\n",
    "\n",
    "model.add(Flatten())"
   ]
  },
  {
   "cell_type": "code",
   "execution_count": 10,
   "id": "16873b74",
   "metadata": {},
   "outputs": [],
   "source": [
    "# Adding Hidden Layer\n",
    "\n",
    "model.add(Dense(units = 512, kernel_initializer = 'random_uniform', activation = 'relu'))"
   ]
  },
  {
   "cell_type": "code",
   "execution_count": 11,
   "id": "d9f19dea",
   "metadata": {},
   "outputs": [],
   "source": [
    "# Adding Output Layer\n",
    "\n",
    "model.add(Dense(units = 9, kernel_initializer = 'random_uniform', activation = 'softmax'))"
   ]
  },
  {
   "cell_type": "code",
   "execution_count": 12,
   "id": "a19923fe",
   "metadata": {},
   "outputs": [],
   "source": [
    "# Compile the model\n",
    "\n",
    "model.compile(loss = 'categorical_crossentropy', optimizer = 'adam', metrics = ['accuracy'])"
   ]
  },
  {
   "cell_type": "code",
   "execution_count": 16,
   "id": "5e877d47",
   "metadata": {},
   "outputs": [
    {
     "name": "stdout",
     "output_type": "stream",
     "text": [
      "Epoch 1/10\n"
     ]
    },
    {
     "name": "stderr",
     "output_type": "stream",
     "text": [
      "C:\\Users\\Lenovo\\AppData\\Local\\Temp\\ipykernel_2240\\1270027362.py:3: UserWarning: `Model.fit_generator` is deprecated and will be removed in a future version. Please use `Model.fit`, which supports generators.\n",
      "  model.fit_generator(X_train, steps_per_epoch = 24, epochs = 10, validation_data = X_test, validation_steps = 40)\n"
     ]
    },
    {
     "name": "stdout",
     "output_type": "stream",
     "text": [
      "24/24 [==============================] - 6s 272ms/step - loss: 0.0829 - accuracy: 0.9766 - val_loss: 0.0492 - val_accuracy: 0.9852\n",
      "Epoch 2/10\n",
      "24/24 [==============================] - 6s 256ms/step - loss: 0.0756 - accuracy: 0.9805 - val_loss: 0.0187 - val_accuracy: 0.9961\n",
      "Epoch 3/10\n",
      "24/24 [==============================] - 6s 231ms/step - loss: 0.0662 - accuracy: 0.9805 - val_loss: 0.0354 - val_accuracy: 0.9906\n",
      "Epoch 4/10\n",
      "24/24 [==============================] - 6s 237ms/step - loss: 0.0739 - accuracy: 0.9818 - val_loss: 0.0536 - val_accuracy: 0.9828\n",
      "Epoch 5/10\n",
      "24/24 [==============================] - 5s 218ms/step - loss: 0.0677 - accuracy: 0.9766 - val_loss: 0.0171 - val_accuracy: 0.9984\n",
      "Epoch 6/10\n",
      "24/24 [==============================] - 5s 208ms/step - loss: 0.0717 - accuracy: 0.9792 - val_loss: 0.0478 - val_accuracy: 0.9883\n",
      "Epoch 7/10\n",
      "24/24 [==============================] - 5s 212ms/step - loss: 0.0537 - accuracy: 0.9831 - val_loss: 0.0211 - val_accuracy: 0.9953\n",
      "Epoch 8/10\n",
      "24/24 [==============================] - 5s 224ms/step - loss: 0.0479 - accuracy: 0.9870 - val_loss: 0.0188 - val_accuracy: 0.9922\n",
      "Epoch 9/10\n",
      "24/24 [==============================] - 5s 194ms/step - loss: 0.0463 - accuracy: 0.9883 - val_loss: 0.0090 - val_accuracy: 0.9984\n",
      "Epoch 10/10\n",
      "24/24 [==============================] - 5s 196ms/step - loss: 0.0279 - accuracy: 0.9922 - val_loss: 0.0030 - val_accuracy: 1.0000\n"
     ]
    },
    {
     "data": {
      "text/plain": [
       "<keras.callbacks.History at 0x1e8e46b7220>"
      ]
     },
     "execution_count": 16,
     "metadata": {},
     "output_type": "execute_result"
    }
   ],
   "source": [
    "# Fiiting the model\n",
    "\n",
    "model.fit_generator(X_train, steps_per_epoch = 24, epochs = 10, validation_data = X_test, validation_steps = 40)"
   ]
  },
  {
   "cell_type": "code",
   "execution_count": 17,
   "id": "be5efb4d",
   "metadata": {},
   "outputs": [],
   "source": [
    "# Saving the model\n",
    "\n",
    "model.save('aslpng1.h5')"
   ]
  },
  {
   "cell_type": "code",
   "execution_count": null,
   "id": "9a4e1c65",
   "metadata": {},
   "outputs": [],
   "source": []
  }
 ],
 "metadata": {
  "kernelspec": {
   "display_name": "Python 3 (ipykernel)",
   "language": "python",
   "name": "python3"
  },
  "language_info": {
   "codemirror_mode": {
    "name": "ipython",
    "version": 3
   },
   "file_extension": ".py",
   "mimetype": "text/x-python",
   "name": "python",
   "nbconvert_exporter": "python",
   "pygments_lexer": "ipython3",
   "version": "3.9.13"
  }
 },
 "nbformat": 4,
 "nbformat_minor": 5
}
